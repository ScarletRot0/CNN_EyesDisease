{
 "cells": [
  {
   "cell_type": "code",
   "execution_count": 12,
   "id": "aa7a853f-83e1-4e62-9e10-c8d3a5a70db2",
   "metadata": {},
   "outputs": [],
   "source": [
    "import warnings\n",
    "import logging\n",
    "import os\n",
    "import sys\n",
    "\n",
    "# Suprimir logs de TensorFlow\n",
    "os.environ['TF_CPP_MIN_LOG_LEVEL'] = '3'\n",
    "\n",
    "# Redirigir salida estándar para suprimir warnings en Voila\n",
    "warnings.filterwarnings('ignore')\n",
    "sys.stdout = open(os.devnull, 'w')\n",
    "sys.stderr = open(os.devnull, 'w')"
   ]
  },
  {
   "cell_type": "code",
   "execution_count": 13,
   "id": "90b73116-fe54-488e-b62e-b555b268da86",
   "metadata": {
    "tags": []
   },
   "outputs": [],
   "source": [
    "import ipywidgets as widgets\n",
    "from IPython.display import display, clear_output\n",
    "from PIL import Image\n",
    "import numpy as np\n",
    "from tensorflow.keras.models import load_model\n",
    "import matplotlib.pyplot as plt\n",
    "import io\n",
    "from tensorflow.keras.applications.efficientnet import preprocess_input"
   ]
  },
  {
   "cell_type": "code",
   "execution_count": 14,
   "id": "5f7c4f0d-549e-48ca-8b00-74807ceac820",
   "metadata": {
    "tags": []
   },
   "outputs": [],
   "source": [
    "# Cargar el modelo (reemplaza 'modelo_final.h5' por el nombre de tu modelo)\n",
    "model = load_model('modelo/efficientnet_retina_v1_40_learn_3.0_batch_32_rep_3.h5')"
   ]
  },
  {
   "cell_type": "code",
   "execution_count": 15,
   "id": "d09fe3ed-f298-422d-b331-359ddb7202c0",
   "metadata": {
    "tags": []
   },
   "outputs": [],
   "source": [
    "# Widgets\n",
    "upload_button = widgets.FileUpload(accept='.jpg, .jpeg', multiple=False)\n",
    "output = widgets.Output()\n",
    "message_label = widgets.Label(value=\"Por favor, sube una imagen en formato .jpg o .jpeg\")\n",
    "message_label2 = widgets.HTML(value=\"\")\n",
    "warning_label = widgets.HTML(value=\"<h3 style='color:#8e1414;'>Esto es solamente un prototipo que busca un acercamiento a la clasificación de enfermedades oculares que causan ceguera irreversible, especificamente: Glaucoma, Retinopatía diabética y Catarata; mediante imágenes de retinoscopía. Por lo tanto, las respuestas nunca serán 100% precisas.</h3>\")\n",
    "progress = widgets.FloatProgress(value=0, min=0, max=1, description='Progreso:',\n",
    "                                 layout={'display': 'none'})  # Inicialmente oculta\n",
    "# Cargar una imagen de la UDI\n",
    "udi_image_path = 'imagen_udi/Logo-udi-web.png' \n",
    "with open(udi_image_path, \"rb\") as f:\n",
    "    udi_image = f.read()\n",
    "    \n",
    "# Crear el widget para la imagen de la UDI\n",
    "udi_image_widget = widgets.Image(\n",
    "    value=udi_image,\n",
    "    format='jpg',\n",
    "    width=300,  # Ajusta el tamaño\n",
    "    height=100\n",
    ")"
   ]
  },
  {
   "cell_type": "code",
   "execution_count": 17,
   "id": "e2a8f5fc-f85e-4436-ae4b-06bb9c5b2073",
   "metadata": {
    "tags": []
   },
   "outputs": [],
   "source": [
    "# Definir parámetros del modelo\n",
    "img_size = (224, 224)\n",
    "channels = 3  # o BGR o escala de grises\n",
    "color = 'rgb'\n",
    "img_shape = (img_size[0], img_size[1], channels)  # Forma esperada por el modelo\n",
    "\n",
    "# Función para preprocesar la imagen\n",
    "def preprocess_image(img):\n",
    "    # Redimensionar la imagen\n",
    "    img_resized = img.resize(img_size)\n",
    "    \n",
    "    # Convertir a array numpy\n",
    "    img_array = np.array(img_resized)\n",
    "    img_array = preprocess_input(img_array)\n",
    "    # Verificar que la forma sea correcta y normalizar si es necesario\n",
    "    if img_array.shape != img_shape:\n",
    "        raise ValueError(f\"La forma de la imagen procesada {img_array.shape} no coincide con {img_shape}\")\n",
    "    \n",
    "    # Añadir dimensión batch\n",
    "    img_array = np.expand_dims(img_array, axis=0)\n",
    "    \n",
    "    return img_array\n",
    "\n",
    "# Función para procesar la imagen y realizar la predicción\n",
    "def process_image(change):\n",
    "    output.clear_output()\n",
    "    progress.value = 0.0\n",
    "    progress.layout.display = 'none'  # Ocultar barra de progreso inicialmente\n",
    "    message_label2.value = \"\"  # Reiniciar mensaje\n",
    "\n",
    "    if upload_button.value:\n",
    "        progress.layout.display = 'flex'\n",
    "        progress.value = 0.1\n",
    "\n",
    "        uploaded_file = upload_button.value[0]\n",
    "        file_name = uploaded_file.get('name', '')  # Obtener nombre del archivo\n",
    "        content = uploaded_file.get('content', b'')\n",
    "\n",
    "        # Validar si el archivo es una imagen en formato .jpg o .jpeg\n",
    "        if not file_name.lower().endswith(('.jpg', '.jpeg')):\n",
    "            message_label2.value = f\"<h2 style='color:red;'>Error: El archivo {file_name} no es una imagen válida. Sube un archivo .jpg o .jpeg</h2>\"\n",
    "            progress.layout.display = 'none'\n",
    "            upload_button.value = None  # Limpiar contenido cargado\n",
    "            return\n",
    "\n",
    "        try:\n",
    "            # Intentar abrir el archivo como una imagen\n",
    "            img = Image.open(io.BytesIO(content.tobytes()))\n",
    "        except Exception as e:\n",
    "            message_label2.value = f\"<h2 style='color:red;'>Error: No se pudo abrir el archivo {file_name}. Asegúrate de que sea una imagen válida.</h2>\"\n",
    "            progress.layout.display = 'none'\n",
    "            upload_button.value = None  # Limpiar contenido cargado\n",
    "            return\n",
    "\n",
    "        # Mostrar la imagen cargada\n",
    "        with output:\n",
    "            plt.imshow(img)\n",
    "            plt.axis('off')\n",
    "            plt.show()\n",
    "\n",
    "        progress.value = 0.5\n",
    "\n",
    "        try:\n",
    "            # Preprocesar la imagen usando la función definida\n",
    "            img_array = preprocess_image(img)\n",
    "\n",
    "            # Realizar la predicción\n",
    "            prediction = model.predict(img_array)\n",
    "            predicted_class = np.argmax(prediction, axis=1)\n",
    "\n",
    "            progress.value = 0.8\n",
    "\n",
    "            class_names = {0: \"Catarata\", 1: \"Retinopatía Diabética\", 2: \"Glaucoma\", 3: \"Normal\"}\n",
    "            predicted_label = class_names.get(predicted_class[0], \"Clase desconocida\")\n",
    "\n",
    "            message_label2.value = f\"<h2 style='color:#046c9c;'>Predicción del modelo: {predicted_label}</h2>\"\n",
    "        except ValueError as ve:\n",
    "            message_label2.value = f\"<h2 style='color:red;'>Error: {str(ve)}</h2>\"\n",
    "        except Exception as e:\n",
    "            message_label2.value = f\"<h2 style='color:red;'>Error inesperado: {str(e)}</h2>\"\n",
    "        finally:\n",
    "            progress.value = 1.0\n",
    "    else:\n",
    "        message_label2.value = \"<h2 style='color:red;'>Error: Por favor sube una imagen válida en formato .jpg o .jpeg</h2>\"\n",
    "    \n",
    "    # Limpiar siempre el contenido cargado\n",
    "    upload_button.value = None\n"
   ]
  },
  {
   "cell_type": "code",
   "execution_count": null,
   "id": "7710d38a-dedc-4ee3-910d-4d8b5da86742",
   "metadata": {
    "tags": []
   },
   "outputs": [],
   "source": [
    "# Asociar la función al cambio en el botón de carga\n",
    "upload_button.observe(process_image, names='value')\n",
    "\n",
    "# Mostrar los widgets \n",
    "display(udi_image_widget)  # Imagen de la UDI\n",
    "display(widgets.HTML(\"<h1>Clasificación de imágenes</h2>\"))\n",
    "display(warning_label)  # Advertencia de prototipo\n",
    "display(message_label)\n",
    "display(upload_button)\n",
    "display(output)  # Aquí se mostrará la imagen\n",
    "display(progress)  # Barra de progreso\n",
    "display(message_label2)  # Aquí se mostrará la predicción"
   ]
  },
  {
   "cell_type": "code",
   "execution_count": null,
   "id": "ab7828e0-06f5-461b-a7b1-500732bae05a",
   "metadata": {},
   "outputs": [],
   "source": []
  }
 ],
 "metadata": {
  "kernelspec": {
   "display_name": "Python 3 (ipykernel)",
   "language": "python",
   "name": "python3"
  },
  "language_info": {
   "codemirror_mode": {
    "name": "ipython",
    "version": 3
   },
   "file_extension": ".py",
   "mimetype": "text/x-python",
   "name": "python",
   "nbconvert_exporter": "python",
   "pygments_lexer": "ipython3",
   "version": "3.11.4"
  }
 },
 "nbformat": 4,
 "nbformat_minor": 5
}
