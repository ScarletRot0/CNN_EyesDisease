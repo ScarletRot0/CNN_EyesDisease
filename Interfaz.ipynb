{
 "cells": [
  {
   "cell_type": "code",
   "execution_count": null,
   "id": "aa7a853f-83e1-4e62-9e10-c8d3a5a70db2",
   "metadata": {},
   "outputs": [],
   "source": [
    "import warnings\n",
    "import logging\n",
    "import os\n",
    "import sys\n",
    "\n",
    "# Suprimir logs de TensorFlow\n",
    "os.environ['TF_CPP_MIN_LOG_LEVEL'] = '3'\n",
    "\n",
    "# Redirigir salida estándar para suprimir warnings en Voila\n",
    "warnings.filterwarnings('ignore')\n",
    "sys.stdout = open(os.devnull, 'w')\n",
    "sys.stderr = open(os.devnull, 'w')"
   ]
  },
  {
   "cell_type": "code",
   "execution_count": 1,
   "id": "90b73116-fe54-488e-b62e-b555b268da86",
   "metadata": {
    "tags": []
   },
   "outputs": [
    {
     "name": "stdout",
     "output_type": "stream",
     "text": [
      "WARNING:tensorflow:From C:\\Users\\jlobo\\anaconda3\\Lib\\site-packages\\keras\\src\\losses.py:2976: The name tf.losses.sparse_softmax_cross_entropy is deprecated. Please use tf.compat.v1.losses.sparse_softmax_cross_entropy instead.\n",
      "\n"
     ]
    }
   ],
   "source": [
    "import ipywidgets as widgets\n",
    "from IPython.display import display, clear_output\n",
    "from PIL import Image\n",
    "import numpy as np\n",
    "from tensorflow.keras.models import load_model\n",
    "import matplotlib.pyplot as plt\n",
    "import io"
   ]
  },
  {
   "cell_type": "code",
   "execution_count": 2,
   "id": "5f7c4f0d-549e-48ca-8b00-74807ceac820",
   "metadata": {
    "tags": []
   },
   "outputs": [
    {
     "name": "stdout",
     "output_type": "stream",
     "text": [
      "WARNING:tensorflow:From C:\\Users\\jlobo\\anaconda3\\Lib\\site-packages\\keras\\src\\backend.py:1398: The name tf.executing_eagerly_outside_functions is deprecated. Please use tf.compat.v1.executing_eagerly_outside_functions instead.\n",
      "\n",
      "WARNING:tensorflow:From C:\\Users\\jlobo\\anaconda3\\Lib\\site-packages\\keras\\src\\layers\\normalization\\batch_normalization.py:979: The name tf.nn.fused_batch_norm is deprecated. Please use tf.compat.v1.nn.fused_batch_norm instead.\n",
      "\n",
      "WARNING:tensorflow:From C:\\Users\\jlobo\\anaconda3\\Lib\\site-packages\\keras\\src\\engine\\base_layer_utils.py:384: The name tf.executing_eagerly_outside_functions is deprecated. Please use tf.compat.v1.executing_eagerly_outside_functions instead.\n",
      "\n"
     ]
    }
   ],
   "source": [
    "# Cargar el modelo (reemplaza 'modelo_final.h5' por el nombre de tu modelo)\n",
    "model = load_model('modelo/efficientnet_retina_v1_40_learn_3.0_batch_32_rep_3.h5')"
   ]
  },
  {
   "cell_type": "code",
   "execution_count": 31,
   "id": "d09fe3ed-f298-422d-b331-359ddb7202c0",
   "metadata": {
    "tags": []
   },
   "outputs": [],
   "source": [
    "# Widgets\n",
    "upload_button = widgets.FileUpload(accept='.jpg, .jpeg', multiple=False)\n",
    "output = widgets.Output()\n",
    "message_label = widgets.Label(value=\"Por favor, sube una imagen en formato .jpg o .jpeg\")\n",
    "message_label2 = widgets.HTML(value=\"\")\n",
    "warning_label = widgets.HTML(value=\"<h3 style='color:#8e1414;'>Esto es solamente un prototipo que busca un acercamiento a la clasificación de enfermedades oculares que causan ceguera irreversible, especificamente: Glaucoma, Retinopatía diabética y Catarata; mediante imágenes de retinoscopía. Por lo tanto, las respuestas nunca serán 100% precisas.</h3>\")\n",
    "progress = widgets.FloatProgress(value=0, min=0, max=1, description='Progreso:',\n",
    "                                 layout={'display': 'none'})  # Inicialmente oculta\n",
    "# Cargar una imagen de la UDI\n",
    "udi_image_path = 'imagen_udi/Logo-udi-web.png'  # Asegúrate de colocar la ruta correcta\n",
    "with open(udi_image_path, \"rb\") as f:\n",
    "    udi_image = f.read()\n",
    "    \n",
    "# Crear el widget para la imagen de la UDI\n",
    "udi_image_widget = widgets.Image(\n",
    "    value=udi_image,\n",
    "    format='jpg',\n",
    "    width=300,  # Ajusta el tamaño según sea necesario\n",
    "    height=100\n",
    ")"
   ]
  },
  {
   "cell_type": "code",
   "execution_count": 36,
   "id": "e2a8f5fc-f85e-4436-ae4b-06bb9c5b2073",
   "metadata": {
    "tags": []
   },
   "outputs": [],
   "source": [
    "# Función para procesar la imagen y realizar la predicción\n",
    "# Función para procesar la imagen y realizar la predicción\n",
    "def process_image(change):\n",
    "    output.clear_output()\n",
    "    progress.value = 0.0\n",
    "    progress.layout.display = 'none'  # Asegurar que la barra esté oculta si no se ha subido imagen\n",
    "\n",
    "    # Verificar si se ha cargado una imagen\n",
    "    if upload_button.value:\n",
    "        # Mostrar la barra de progreso cuando empieza el procesamiento\n",
    "        progress.layout.display = 'flex'\n",
    "        progress.value = 0.1\n",
    "\n",
    "        # Obtener el archivo subido\n",
    "        uploaded_file = upload_button.value[0]\n",
    "        img = Image.open(io.BytesIO(uploaded_file['content'].tobytes()))\n",
    "\n",
    "        with output:\n",
    "            # Mostrar la imagen\n",
    "            plt.imshow(img)\n",
    "            plt.axis('off')\n",
    "            plt.show()\n",
    "\n",
    "        # Actualizar barra de progreso\n",
    "        progress.value = 0.5\n",
    "\n",
    "        # Preprocesar la imagen para el modelo (modificar según tus necesidades)\n",
    "        img_resized = img.resize((224, 224))  # Ajusta esto al tamaño esperado por tu modelo\n",
    "        img_array = np.array(img_resized)\n",
    "        img_array = np.expand_dims(img_array, axis=0)  # Añadir dimensión batch\n",
    "\n",
    "        # Realizar la predicción\n",
    "        prediction = model.predict(img_array)\n",
    "        predicted_class = np.argmax(prediction, axis=1)\n",
    "\n",
    "        # Actualizar barra de progreso\n",
    "        progress.value = 0.8\n",
    "\n",
    "        class_names = {0: \"Catarata\", 1: \"Retinopatía Diabética\", 2: \"Glaucoma\", 3: \"Normal\"}\n",
    "        predicted_label = class_names.get(predicted_class[0], \"Clase desconocida\")\n",
    "\n",
    "        # Mostrar la predicción del modelo en grande con formato HTML\n",
    "        message_label2.value = f\"<h2 style='color:#046c9c;'>Predicción del modelo: {predicted_label}</h1>\"\n",
    "        \n",
    "        # Finalizar la barra de progreso\n",
    "        progress.value = 1.0\n",
    "    else:\n",
    "        # Si no se ha subido una imagen\n",
    "        message_label2.value = \"<h2 style='color:red;'>Error: Por favor sube una imagen válida en formato .jpg o .jpeg</h2>\"\n"
   ]
  },
  {
   "cell_type": "code",
   "execution_count": 37,
   "id": "7710d38a-dedc-4ee3-910d-4d8b5da86742",
   "metadata": {
    "tags": []
   },
   "outputs": [
    {
     "data": {
      "application/vnd.jupyter.widget-view+json": {
       "model_id": "aa854bb2559d4af4940b9a1fb2bd4a33",
       "version_major": 2,
       "version_minor": 0
      },
      "text/plain": [
       "Image(value=b'\\x89PNG\\r\\n\\x1a\\n\\x00\\x00\\x00\\rIHDR\\x00\\x00\\x01\\xba\\x00\\x00\\x00s\\x08\\x06\\x00\\x00\\x01\\x99`\\xf7\\xd…"
      ]
     },
     "metadata": {},
     "output_type": "display_data"
    },
    {
     "data": {
      "application/vnd.jupyter.widget-view+json": {
       "model_id": "a9e2cdf8b06b477b9da0942dca772ac9",
       "version_major": 2,
       "version_minor": 0
      },
      "text/plain": [
       "HTML(value='<h1>Clasificación de imágenes</h2>')"
      ]
     },
     "metadata": {},
     "output_type": "display_data"
    },
    {
     "data": {
      "application/vnd.jupyter.widget-view+json": {
       "model_id": "42f967f9fa584a2e82801b354e0694cf",
       "version_major": 2,
       "version_minor": 0
      },
      "text/plain": [
       "HTML(value=\"<h3 style='color:#8e1414;'>Esto es solamente un prototipo que busca un acercamiento a la clasifica…"
      ]
     },
     "metadata": {},
     "output_type": "display_data"
    },
    {
     "data": {
      "application/vnd.jupyter.widget-view+json": {
       "model_id": "ae5787f13d7042e18722da394e8ecd46",
       "version_major": 2,
       "version_minor": 0
      },
      "text/plain": [
       "Label(value='Por favor, sube una imagen en formato .jpg o .jpeg')"
      ]
     },
     "metadata": {},
     "output_type": "display_data"
    },
    {
     "data": {
      "application/vnd.jupyter.widget-view+json": {
       "model_id": "39db0206563941959ba3ae8d4f29b2a0",
       "version_major": 2,
       "version_minor": 0
      },
      "text/plain": [
       "FileUpload(value=({'name': '108_right.jpeg', 'type': 'image/jpeg', 'size': 74933, 'content': <memory at 0x0000…"
      ]
     },
     "metadata": {},
     "output_type": "display_data"
    },
    {
     "data": {
      "application/vnd.jupyter.widget-view+json": {
       "model_id": "9a0d09723d524f2d8cf5d0d286bfaf30",
       "version_major": 2,
       "version_minor": 0
      },
      "text/plain": [
       "Output(outputs=({'output_type': 'display_data', 'data': {'text/plain': '<Figure size 640x480 with 1 Axes>', 'i…"
      ]
     },
     "metadata": {},
     "output_type": "display_data"
    },
    {
     "data": {
      "application/vnd.jupyter.widget-view+json": {
       "model_id": "c42e19f2ae744e15a4407854e4cb99be",
       "version_major": 2,
       "version_minor": 0
      },
      "text/plain": [
       "FloatProgress(value=1.0, description='Progreso:', layout=Layout(display='flex'), max=1.0)"
      ]
     },
     "metadata": {},
     "output_type": "display_data"
    },
    {
     "data": {
      "application/vnd.jupyter.widget-view+json": {
       "model_id": "a74bdb6d8f644a56996be27f2f26f494",
       "version_major": 2,
       "version_minor": 0
      },
      "text/plain": [
       "HTML(value=\"<h2 style='color:#040cab;'>Predicción del modelo: Retinopatía Diabética</h1>\")"
      ]
     },
     "metadata": {},
     "output_type": "display_data"
    }
   ],
   "source": [
    "# Asociar la función al cambio en el botón de carga\n",
    "upload_button.observe(process_image, names='value')\n",
    "\n",
    "# Mostrar los widgets \n",
    "display(udi_image_widget)  # Imagen de la UDI\n",
    "display(widgets.HTML(\"<h1>Clasificación de imágenes</h2>\"))\n",
    "display(warning_label)  # Advertencia de prototipo\n",
    "display(message_label)\n",
    "display(upload_button)\n",
    "display(output)  # Aquí se mostrará la imagen\n",
    "display(progress)  # Barra de progreso\n",
    "display(message_label2)  # Aquí se mostrará la predicción"
   ]
  },
  {
   "cell_type": "code",
   "execution_count": null,
   "id": "ab7828e0-06f5-461b-a7b1-500732bae05a",
   "metadata": {},
   "outputs": [],
   "source": []
  }
 ],
 "metadata": {
  "kernelspec": {
   "display_name": "Python 3 (ipykernel)",
   "language": "python",
   "name": "python3"
  },
  "language_info": {
   "codemirror_mode": {
    "name": "ipython",
    "version": 3
   },
   "file_extension": ".py",
   "mimetype": "text/x-python",
   "name": "python",
   "nbconvert_exporter": "python",
   "pygments_lexer": "ipython3",
   "version": "3.11.4"
  }
 },
 "nbformat": 4,
 "nbformat_minor": 5
}
