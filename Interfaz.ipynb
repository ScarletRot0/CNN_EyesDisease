{
 "cells": [
  {
   "cell_type": "code",
   "execution_count": 6,
   "id": "90b73116-fe54-488e-b62e-b555b268da86",
   "metadata": {
    "tags": []
   },
   "outputs": [],
   "source": [
    "import ipywidgets as widgets\n",
    "from IPython.display import display, clear_output\n",
    "from PIL import Image\n",
    "import numpy as np\n",
    "from tensorflow.keras.models import load_model\n",
    "import matplotlib.pyplot as plt\n",
    "import io"
   ]
  },
  {
   "cell_type": "code",
   "execution_count": 7,
   "id": "5f7c4f0d-549e-48ca-8b00-74807ceac820",
   "metadata": {
    "tags": []
   },
   "outputs": [],
   "source": [
    "# Cargar el modelo (reemplaza 'modelo_final.h5' por el nombre de tu modelo)\n",
    "model = load_model('modelo/efficientnet_retina_v1_40_learn_3.0_batch_32_rep_3.h5')"
   ]
  },
  {
   "cell_type": "code",
   "execution_count": 8,
   "id": "d09fe3ed-f298-422d-b331-359ddb7202c0",
   "metadata": {
    "tags": []
   },
   "outputs": [],
   "source": [
    "# Widgets\n",
    "upload_button = widgets.FileUpload(accept='.jpg, .jpeg', multiple=False)\n",
    "output = widgets.Output()\n",
    "message_label = widgets.Label(value=\"Por favor, sube una imagen en formato .jpg o .jpeg\")"
   ]
  },
  {
   "cell_type": "code",
   "execution_count": 15,
   "id": "e2a8f5fc-f85e-4436-ae4b-06bb9c5b2073",
   "metadata": {
    "tags": []
   },
   "outputs": [],
   "source": [
    "# Función para procesar la imagen y realizar la predicción\n",
    "def process_image(change):\n",
    "    output.clear_output()\n",
    "\n",
    "    # Verificar si se ha cargado una imagen\n",
    "    if upload_button.value:\n",
    "        # Obtener el archivo subido en la nueva estructura de ipywidgets 8\n",
    "        uploaded_file = upload_button.value[0]\n",
    "        img = Image.open(io.BytesIO(uploaded_file['content'].tobytes()))\n",
    "\n",
    "        with output:\n",
    "            # Mostrar la imagen\n",
    "            plt.imshow(img)\n",
    "            plt.axis('off')\n",
    "            plt.show()\n",
    "\n",
    "            # Preprocesar la imagen para el modelo (modificar según tus necesidades)\n",
    "            img_resized = img.resize((224, 224))  # Ajusta esto al tamaño esperado por tu modelo\n",
    "            img_array = np.array(img_resized)\n",
    "            img_array = np.expand_dims(img_array, axis=0)  # Añadir dimensión batch\n",
    "\n",
    "            # Realizar la predicción\n",
    "            prediction = model.predict(img_array)\n",
    "            predicted_class = np.argmax(prediction, axis=1)\n",
    "            print(predicted_class)\n",
    "            class_names = {0: \"Catarata\", 1: \"Retinopatía Diabética\", 2: \"Glaucoma\", 3: \"Normal\"}\n",
    "            # Mostrar la predicción del modelo\n",
    "            predicted_label = class_names.get(predicted_class[0], \"Clase desconocida\")\n",
    "            print(f\"Predicción del modelo: {predicted_label}\")\n",
    "    else:\n",
    "        # Si no se ha subido una imagen\n",
    "        message_label.value = \"Error: Por favor sube una imagen válida en formato .jpg o .jpeg\"\n"
   ]
  },
  {
   "cell_type": "code",
   "execution_count": 18,
   "id": "7710d38a-dedc-4ee3-910d-4d8b5da86742",
   "metadata": {
    "tags": []
   },
   "outputs": [
    {
     "data": {
      "application/vnd.jupyter.widget-view+json": {
       "model_id": "b2bfc0c54b7242288bc914ca4075bcaf",
       "version_major": 2,
       "version_minor": 0
      },
      "text/plain": [
       "HTML(value='<h2>Clasificación de imágenes</h2>')"
      ]
     },
     "metadata": {},
     "output_type": "display_data"
    },
    {
     "data": {
      "application/vnd.jupyter.widget-view+json": {
       "model_id": "554544d264ac44eabbf6844b2cc7cb50",
       "version_major": 2,
       "version_minor": 0
      },
      "text/plain": [
       "Label(value='Por favor, sube una imagen en formato .jpg o .jpeg')"
      ]
     },
     "metadata": {},
     "output_type": "display_data"
    },
    {
     "data": {
      "application/vnd.jupyter.widget-view+json": {
       "model_id": "eecc03d166784e7da6878fc24e6609f5",
       "version_major": 2,
       "version_minor": 0
      },
      "text/plain": [
       "FileUpload(value=({'name': '_6_2143075.jpg', 'type': 'image/jpeg', 'size': 6746, 'content': <memory at 0x00000…"
      ]
     },
     "metadata": {},
     "output_type": "display_data"
    },
    {
     "data": {
      "application/vnd.jupyter.widget-view+json": {
       "model_id": "8ebc1424135b4fd6bc519f0ea5108b9b",
       "version_major": 2,
       "version_minor": 0
      },
      "text/plain": [
       "Output(outputs=({'output_type': 'display_data', 'data': {'text/plain': '<Figure size 640x480 with 1 Axes>', 'i…"
      ]
     },
     "metadata": {},
     "output_type": "display_data"
    }
   ],
   "source": [
    "# Asignar la función al evento de cambio en el botón de subida de archivo\n",
    "upload_button.observe(process_image, names='value')\n",
    "\n",
    "# Layout de la interfaz\n",
    "display(widgets.HTML(\"<h2>Clasificación de imágenes</h2>\"))\n",
    "display(message_label)\n",
    "display(upload_button)\n",
    "display(output)"
   ]
  },
  {
   "cell_type": "code",
   "execution_count": null,
   "id": "ab7828e0-06f5-461b-a7b1-500732bae05a",
   "metadata": {},
   "outputs": [],
   "source": []
  }
 ],
 "metadata": {
  "kernelspec": {
   "display_name": "Python 3 (ipykernel)",
   "language": "python",
   "name": "python3"
  },
  "language_info": {
   "codemirror_mode": {
    "name": "ipython",
    "version": 3
   },
   "file_extension": ".py",
   "mimetype": "text/x-python",
   "name": "python",
   "nbconvert_exporter": "python",
   "pygments_lexer": "ipython3",
   "version": "3.11.4"
  }
 },
 "nbformat": 4,
 "nbformat_minor": 5
}
